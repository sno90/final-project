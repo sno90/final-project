{
 "cells": [
  {
   "cell_type": "code",
   "execution_count": 1,
   "metadata": {},
   "outputs": [],
   "source": [
    "# import dependencies \n",
    "# from selenium import webdriver\n",
    "from splinter import Browser\n",
    "from bs4 import BeautifulSoup as bs\n",
    "import requests\n",
    "import re\n",
    "from urllib.request import urlopen\n",
    "# import time\n",
    "import pandas as pd\n",
    "import numpy as np"
   ]
  },
  {
   "cell_type": "code",
   "execution_count": 2,
   "metadata": {},
   "outputs": [],
   "source": [
    "executable_path = {'executable_path': 'C:\\\\Users\\\\Trisarah\\\\Desktop\\chromedriver.exe'} \n",
    "browser= Browser('chrome', **executable_path, headless=False)\n",
    "base_url = 'https://www.ulta.com'"
   ]
  },
  {
   "cell_type": "code",
   "execution_count": 3,
   "metadata": {},
   "outputs": [],
   "source": [
    "# # set urls\n",
    "ulta_urls = ['https://www.ulta.com/skin-care-cleansers?N=2794',\n",
    "              'https://www.ulta.com/skin-care-moisturizers?N=2796',\n",
    "              'https://www.ulta.com/skin-care-treatment-serums?N=27cs',\n",
    "              'https://www.ulta.com/skin-care-eye-treatments?N=270k',\n",
    "              'https://www.ulta.com/skin-care-suncare?N=27fe',\n",
    "              'https://www.ulta.com/makeup-face?N=26y3',\n",
    "              'https://www.ulta.com/makeup-eyes?N=26yd',\n",
    "              'https://www.ulta.com/makeup-lips?N=26yq',\n",
    "              'https://www.ulta.com/hair-shampoo-conditioner?N=27ih',\n",
    "              'https://www.ulta.com/hair-treatment?N=26xy',\n",
    "              'https://www.ulta.com/hair-styling-products?N=26xf',\n",
    "              'https://www.ulta.com/hair-color?N=26xs',\n",
    "              'https://www.ulta.com/bath-body-bath-shower?N=26uy',\n",
    "              'https://www.ulta.com/bath-body-body-moisturizers?N=26v3',\n",
    "              'https://www.ulta.com/bath-body-hand-foot-care?N=27ic',\n",
    "#               'https://www.ulta.com/bath-body-personal-care?N=27i3',\n",
    "              'https://www.ulta.com/bath-body-suncare?N=276b']"
   ]
  },
  {
   "cell_type": "code",
   "execution_count": 4,
   "metadata": {},
   "outputs": [],
   "source": [
    "# create empty lists to append later\n",
    "products = []\n",
    "links = []\n",
    "\n",
    "# loop through ulta urls\n",
    "for url in ulta_urls:\n",
    "    browser.visit(url)\n",
    "    r = requests.get(url, timeout=5)\n",
    "    \n",
    "    # parse html source\n",
    "    html = browser.html\n",
    "    data = bs(html, 'html.parser')\n",
    "    \n",
    "    # get product link, title, and \n",
    "    prod_title = data.find_all('h4', attrs={'prod-title'})\n",
    "    \n",
    "    #loop through the links and generate unique url for each product\n",
    "    for link in prod_title:\n",
    "        find_href = link.findAll('a')\n",
    "        \n",
    "        # create empty dict\n",
    "        prod_dict = {}\n",
    "        \n",
    "        # find product url, brand, description and url\n",
    "        for a in find_href:\n",
    "            href = a['href']\n",
    "            prod_dict['url'] = base_url + a['href']\n",
    "            link = base_url + a['href']\n",
    "            links.append(link)\n",
    "            prod_dict['id'] = prod_dict['url'].rsplit('=', 1)[+1] \n",
    "            prod_dict['descrip'] = re.findall(r\"\\/([\\s\\S]*?)\\?\", href)[0]\n",
    "            prod_dict['brand'] = a.getText().split('\\n\\t\\t\\t\\t')[1]\n",
    "                 \n",
    "#         append product dictionary to products list\n",
    "            products.append(prod_dict)"
   ]
  },
  {
   "cell_type": "code",
   "execution_count": null,
   "metadata": {},
   "outputs": [
    {
     "name": "stdout",
     "output_type": "stream",
     "text": [
      "could not find\n",
      "could not find\n",
      "could not find\n",
      "could not find\n"
     ]
    }
   ],
   "source": [
    "##### THIS CELL WORKS ##### \n",
    "\n",
    "ingredients_dict = {}\n",
    "ingredients_list = []\n",
    "\n",
    "# urls = []\n",
    "# for link in links:\n",
    "#     urls.append(link)\n",
    "#     ingredients_dict['ur = urlsrls\n",
    "\n",
    "for i in range(len(links)):\n",
    "    try: \n",
    "        r = requests.get(url, timeout=5)\n",
    "        html = urlopen(links[i]).read()\n",
    "        soup = bs(html, 'html.parser')\n",
    "\n",
    "        # get product information how to use, ingredients, and coupon info\n",
    "        product_info = soup.findAll('div', attrs={'class': 'ProductDetail__ingredients'})\n",
    "\n",
    "        # loop through product info to get ingredients \n",
    "        for ingredients in product_info:\n",
    "            # will print out div with ingredients\n",
    "            content = ingredients.find_all('div', {'class' : 'ProductDetail__productContent'})\n",
    "\n",
    "            #### EVERYTHING ABOVE WORKS \n",
    "\n",
    "            for ing_list in content: \n",
    "                new_list = []\n",
    "\n",
    "                ing_text = ing_list.getText()\n",
    "                new_list.append(ing_text)\n",
    "                ingredients_list.append(new_list)\n",
    "                                \n",
    "    except:\n",
    "        ingredients_list.append('error url')\n",
    "        print('could not find')"
   ]
  },
  {
   "cell_type": "code",
   "execution_count": null,
   "metadata": {},
   "outputs": [],
   "source": [
    "ingredients_dict"
   ]
  },
  {
   "cell_type": "code",
   "execution_count": null,
   "metadata": {},
   "outputs": [],
   "source": [
    "pd.DataFrame(products).head()"
   ]
  },
  {
   "cell_type": "code",
   "execution_count": null,
   "metadata": {},
   "outputs": [],
   "source": [
    "df = list(zip(ingredients_list, products))"
   ]
  },
  {
   "cell_type": "code",
   "execution_count": null,
   "metadata": {},
   "outputs": [],
   "source": [
    "df"
   ]
  },
  {
   "cell_type": "code",
   "execution_count": null,
   "metadata": {},
   "outputs": [],
   "source": [
    "# Sample Result DataFrame\n",
    "sample_result_df = pd.DataFrame(products)"
   ]
  },
  {
   "cell_type": "code",
   "execution_count": null,
   "metadata": {},
   "outputs": [],
   "source": [
    "toxic_chems = ['CI' , 'FD&C', 'D&C', 'P-Phenylenediamine','Formaldehyde','Paraben', \n",
    "               'Alkyl Parahydroxy Benzoates','Cyclotetrasiloxane', 'Octamethylcyclotetrasiloxane', \n",
    "               'Cylcopentasiloxane', 'Polydimethylsiloxan','Sodium Lauryl Sulfate', 'SLS', \n",
    "               'Sodium Laureth Sulfate', 'Sles', 'Sodium Lauryl Sulfoacetate', 'Sodium Lauroyl Isoethionate', \n",
    "               'Sodium Lauroyl Taurate', 'Sodium Cocoyl Isoethionate', 'Sodium Lauroyl Methyl Isoethionate', \n",
    "               'Sodium Lauroyl Sarcosinate', 'Disodium Laureth Sulfosuccinate','Benzophenone', 'Paba', \n",
    "               'Avobenzone', 'Homosalate', 'Ethoxycinnmate', 'Oxybenzone']\n",
    "\n",
    "# For loop to create columns with default values of '0'\n",
    "for chem in toxic_chems:\n",
    "    sample_result_df[chem] = 0"
   ]
  },
  {
   "cell_type": "code",
   "execution_count": null,
   "metadata": {},
   "outputs": [],
   "source": [
    "sample_cols = sample_result_df.columns\n",
    "sample_cols"
   ]
  },
  {
   "cell_type": "code",
   "execution_count": null,
   "metadata": {},
   "outputs": [],
   "source": [
    "sample_result_df.head()"
   ]
  },
  {
   "cell_type": "code",
   "execution_count": null,
   "metadata": {},
   "outputs": [],
   "source": [
    "if 'brand' in sample_cols:\n",
    "    print('Yup, brand is inside columns')"
   ]
  },
  {
   "cell_type": "code",
   "execution_count": null,
   "metadata": {},
   "outputs": [],
   "source": []
  },
  {
   "cell_type": "markdown",
   "metadata": {},
   "source": [
    "# Approach\n",
    "\n",
    "- Use the 'in' keyword for columns"
   ]
  },
  {
   "cell_type": "code",
   "execution_count": null,
   "metadata": {},
   "outputs": [],
   "source": []
  }
 ],
 "metadata": {
  "kernelspec": {
   "display_name": "Python 3",
   "language": "python",
   "name": "python3"
  },
  "language_info": {
   "codemirror_mode": {
    "name": "ipython",
    "version": 3
   },
   "file_extension": ".py",
   "mimetype": "text/x-python",
   "name": "python",
   "nbconvert_exporter": "python",
   "pygments_lexer": "ipython3",
   "version": "3.6.5"
  }
 },
 "nbformat": 4,
 "nbformat_minor": 2
}
