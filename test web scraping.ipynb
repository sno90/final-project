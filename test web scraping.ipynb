{
 "cells": [
  {
   "cell_type": "code",
   "execution_count": 49,
   "metadata": {},
   "outputs": [],
   "source": [
    "# import dependencies \n",
    "# from selenium import webdriver\n",
    "from splinter import Browser\n",
    "from bs4 import BeautifulSoup as bs\n",
    "import requests\n",
    "import re\n",
    "from urllib.request import urlopen\n",
    "# import time\n",
    "# import pandas as pd\n",
    "import numpy as np"
   ]
  },
  {
   "cell_type": "code",
   "execution_count": 7,
   "metadata": {},
   "outputs": [],
   "source": [
    "executable_path = {'executable_path': 'C:\\\\Users\\\\Trisarah\\\\Desktop\\chromedriver.exe'} \n",
    "browser= Browser('chrome', **executable_path, headless=False)\n",
    "base_url = 'https://www.ulta.com'"
   ]
  },
  {
   "cell_type": "code",
   "execution_count": 8,
   "metadata": {},
   "outputs": [],
   "source": [
    "# # set urls\n",
    "ulta_urls = ['https://www.ulta.com/skin-care-cleansers?N=2794',\n",
    "              'https://www.ulta.com/skin-care-moisturizers?N=2796']\n",
    "#               'https://www.ulta.com/skin-care-treatment-serums?N=27cs',\\\n",
    "#               'https://www.ulta.com/skin-care-eye-treatments?N=270k',\\\n",
    "#               'https://www.ulta.com/skin-care-suncare?N=27fe',\\\n",
    "#               'https://www.ulta.com/skin-care-supplements?N=2712',\\\n",
    "#               'https://www.ulta.com/skin-care-mother-baby?N=2715',\\\n",
    "#               'https://www.ulta.com/makeup-face?N=26y3',\\\n",
    "#               'https://www.ulta.com/makeup-eyes?N=26yd',\\\n",
    "#               'https://www.ulta.com/makeup-lips?N=26yq',\\\n",
    "#               'https://www.ulta.com/hair-shampoo-conditioner?N=27ih',\\\n",
    "#               'https://www.ulta.com/hair-treatment?N=26xy',\\\n",
    "#               'https://www.ulta.com/hair-styling-products?N=26xf',\\\n",
    "#               'https://www.ulta.com/hair-color?N=26xs',\\\n",
    "#               'https://www.ulta.com/bath-body-bath-shower?N=26uy',\\\n",
    "#               'https://www.ulta.com/bath-body-body-moisturizers?N=26v3',\\\n",
    "#               'https://www.ulta.com/bath-body-hand-foot-care?N=27ic',\\\n",
    "#               'https://www.ulta.com/bath-body-personal-care?N=27i3',\\\n",
    "#               'https://www.ulta.com/bath-body-suncare?N=276b'"
   ]
  },
  {
   "cell_type": "code",
   "execution_count": 72,
   "metadata": {},
   "outputs": [
    {
     "name": "stdout",
     "output_type": "stream",
     "text": [
      "/toleriane-purifying-foaming-face-wash-oily-skin?productId=xlsImpprod15321287\n"
     ]
    }
   ],
   "source": [
    "# create empty lists to append later\n",
    "links = []\n",
    "brands = []\n",
    "description = []\n",
    "productID = []\n",
    "\n",
    "# loop through ulta urls\n",
    "for url in ulta_urls:\n",
    "    browser.visit(url)\n",
    "    r = requests.get(url, timeout=5)\n",
    "    \n",
    "    # parse html source\n",
    "    html = browser.html\n",
    "    data = bs(html, 'html.parser')\n",
    "    \n",
    "    # get product link, title, and \n",
    "    prod_title = data.find_all('h4', attrs={'prod-title'})\n",
    "    \n",
    "    #loop through the links and generate unique url for each product\n",
    "    for link in prod_title:\n",
    "        find_href = link.findAll('a')\n",
    "\n",
    "        for a in find_href:\n",
    "            href = a['href']\n",
    "            brand_text = a.getText()\n",
    "            descrip = re.findall(r\"\\/([\\s\\S]*?)\\?\", href)\n",
    "            id = href.rsplit('=', 1)[+1]\n",
    "            \n",
    "            # append product url to links list from above\n",
    "            links.append(base_url + href)\n",
    "            brands.append(brand_text)\n",
    "            description.append(descrip)\n",
    "            productID.append(id)\n",
    "print(href)"
   ]
  },
  {
   "cell_type": "code",
   "execution_count": 101,
   "metadata": {},
   "outputs": [
    {
     "name": "stdout",
     "output_type": "stream",
     "text": [
      "[<div class=\"Collapsible__contentInner\"><div class=\"ProductDetail__productContent\"><ul><li>Use as a daily face cleanser<li>Cleanse morning and evening<li>Use fingertips to apply foam to the whole face<li>Gently massage, then rinse</li></li></li></li></ul></div></div>, <div class=\"Collapsible__contentInner\"><div class=\"ProductDetail__productContent\">Aqua / Water / Eau (La Roche-Posay Prebiotic Thermal Water, Glycerin, Coco-Betaine, Propylene Glycol, Sodium Cocoyl Glycinate, Peg-120 Methyl Glucose Dioleate, Sodium Chloride, Ceramide Np, Niacinamide, Sodium Hydroxide, Disodium Edta, Capryloyl Glycine, Caprylyl Glycol, Citric Acid, Acrylates Copolymer.</div></div>]\n"
     ]
    }
   ],
   "source": [
    "# create empty ingredients list\n",
    "ingredients = []\n",
    "\n",
    "links = 'https://www.ulta.com/ahabha-exfoliating-cleanser?productId=prod2082342'\n",
    "\n",
    "for i in range(len(links)):\n",
    "    \n",
    "    try: \n",
    "        html = urlopen(links[i]).read()\n",
    "        data = bs(html, 'html.parser')\n",
    "        \n",
    "        # get product link, title, and \n",
    "        coll_ingred = data.find_all('div')[-1]#, attrs={'Collapsible__contentInner': 'ProductDetail__productContent'})\n",
    "        \n",
    "        for x in coll_ingred:\n",
    "            ingredients \n",
    "        \n",
    "    except:\n",
    "        np.nan\n",
    "print(coll_ingred)"
   ]
  },
  {
   "cell_type": "code",
   "execution_count": null,
   "metadata": {},
   "outputs": [],
   "source": [
    "for a in find_href:\n",
    "            href = a['href']\n",
    "            brand_text = a.getText()\n",
    "            descrip = re.findall(r\"\\/([\\s\\S]*?)\\?\", href)\n",
    "            id = href.rsplit('=', 1)[+1]"
   ]
  },
  {
   "cell_type": "code",
   "execution_count": null,
   "metadata": {},
   "outputs": [],
   "source": [
    "from bs4 import BeautifulSoup as soup\n",
    "a = \"<div class=\\\"multiRow\\\"><!--ModuleId 372329FileName @swMultiRowsContainer-->Bye</div>    \n",
    "<div class=\\\"multiRow\\\"><!--ModuleId 372330FileName @multiRowsContainer-->Hi</div>\"\n",
    "\n",
    "print soup(a).find_all(\"div\",{\"class\":\"multiRow\"})[1]\n",
    "returns:\n",
    "\n",
    "<div class=\"multiRow\"><!--ModuleId 372330FileName @multiRowsContainer-->Hi</div>"
   ]
  }
 ],
 "metadata": {
  "kernelspec": {
   "display_name": "Python 3",
   "language": "python",
   "name": "python3"
  },
  "language_info": {
   "codemirror_mode": {
    "name": "ipython",
    "version": 3
   },
   "file_extension": ".py",
   "mimetype": "text/x-python",
   "name": "python",
   "nbconvert_exporter": "python",
   "pygments_lexer": "ipython3",
   "version": "3.6.5"
  }
 },
 "nbformat": 4,
 "nbformat_minor": 2
}
