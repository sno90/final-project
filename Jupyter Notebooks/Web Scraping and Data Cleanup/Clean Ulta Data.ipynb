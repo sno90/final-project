{
 "cells": [
  {
   "cell_type": "code",
   "execution_count": 1,
   "metadata": {},
   "outputs": [],
   "source": [
    "# import dependencies\n",
    "import pandas as pd\n",
    "import os\n",
    "import re"
   ]
  },
  {
   "cell_type": "code",
   "execution_count": 2,
   "metadata": {},
   "outputs": [],
   "source": [
    "# import files \n",
    "ulta_ingredients = pd.read_csv(r'ulta_unique_ingredients.csv')\n",
    "unique_chems = pd.read_csv(r'Unique_Chem.csv', usecols=['ChemicalName'])\n",
    "ulta = pd.read_csv(r'ulta_makeup.csv', usecols= ['brand', 'description', \n",
    "                                                 'rating', 'ingredients', \n",
    "                                                 'number_of_reviews', 'price_USD', 'number_of_ingredients'])"
   ]
  },
  {
   "cell_type": "code",
   "execution_count": 3,
   "metadata": {},
   "outputs": [],
   "source": [
    "# create dataframes from csv files\n",
    "ulta_ing_df = pd.DataFrame(ulta_ingredients)\n",
    "unique_chems_df = pd.DataFrame(unique_chems)\n",
    "ulta_df = pd.DataFrame(ulta)"
   ]
  },
  {
   "cell_type": "code",
   "execution_count": 4,
   "metadata": {},
   "outputs": [],
   "source": [
    "# # create list of most toxic chemicals\n",
    "# toxic_chems = ['Propylparaben','Fd&c','D&C','P-Phenylenediamine','Formaldehyde','Palm Oil','Paraben','Alkyl Parahydroxy Benzoates',\n",
    "# 'Cyclotetrasiloxane','Octamethylcyclotetrasiloxane','Cylcopentasiloxane','Polydimethylsiloxan','Sodium Lauryl Sulfate', \n",
    "# 'Sls', 'Sodium Laureth Sulfate', 'Sles', 'Sodium Lauryl Sulfoacetate', 'Sodium Lauroyl Isoethionate', 'Sodium Lauroyl Taurate', \n",
    "# 'Sodium Cocoyl Isoethionate', 'Sodium Lauroyl Methyl Isoethionate', 'Sodium Lauroyl Sarcosinate', \n",
    "# 'Disodium Laureth Sulfosuccinate','Benzophenone', 'Paba', 'Avobenzone', 'Homosalate', 'Ethoxycinnmate', 'Oxybenzone']"
   ]
  },
  {
   "cell_type": "code",
   "execution_count": 5,
   "metadata": {},
   "outputs": [],
   "source": [
    "# update ingredients from list to string\n",
    "ulta_df['ingredients'] = ulta_df['ingredients'].astype(str)\n",
    "ulta_df['ingredients list'] = ulta_df['ingredients'].str.extract('\\[(.*?)\\]')\n",
    "\n",
    "# udpate number of ingredients and price to int\n",
    "# ulta_df = ulta_df.astype({\"number_of_ingredients\": int, 'price_USD': int})\n",
    "# ulta_df"
   ]
  },
  {
   "cell_type": "code",
   "execution_count": 6,
   "metadata": {},
   "outputs": [],
   "source": [
    "# # remove decimal from rating\n",
    "# ulta_df['rating (0.0)'] = (ulta_df['rating']*10)\n",
    "# ulta_df = ulta_df.astype({'rating (0.0)': int})\n",
    "# ulta_df = ulta_df.drop(columns=['test'])\n",
    "# # ulta_df"
   ]
  },
  {
   "cell_type": "code",
   "execution_count": null,
   "metadata": {},
   "outputs": [],
   "source": [
    "# create columns in the ulta df for each toxic chem\n",
    "for chem in toxic_chems:\n",
    "    ulta_df[chem] = 0"
   ]
  },
  {
   "cell_type": "code",
   "execution_count": 9,
   "metadata": {},
   "outputs": [],
   "source": [
    "ulta_df.to_csv('ulta_makeup.csv', index=False)"
   ]
  },
  {
   "cell_type": "code",
   "execution_count": null,
   "metadata": {},
   "outputs": [],
   "source": []
  },
  {
   "cell_type": "code",
   "execution_count": null,
   "metadata": {},
   "outputs": [],
   "source": []
  },
  {
   "cell_type": "code",
   "execution_count": null,
   "metadata": {},
   "outputs": [],
   "source": []
  },
  {
   "cell_type": "code",
   "execution_count": null,
   "metadata": {},
   "outputs": [],
   "source": []
  },
  {
   "cell_type": "code",
   "execution_count": null,
   "metadata": {},
   "outputs": [],
   "source": []
  },
  {
   "cell_type": "code",
   "execution_count": null,
   "metadata": {},
   "outputs": [],
   "source": [
    "# loop through each products ingredients list to see if the toxic chemicals are included \n",
    "for chem in toxic_chems: \n",
    "    for i in range(0, len(ulta_df)-1):\n",
    "        if chem in ulta_df['ingredients list'][i]: \n",
    "            ulta_df[chem][i] = 1\n",
    "        else:\n",
    "            continue"
   ]
  },
  {
   "cell_type": "code",
   "execution_count": null,
   "metadata": {},
   "outputs": [],
   "source": [
    "ulta_df.dropna()"
   ]
  },
  {
   "cell_type": "code",
   "execution_count": null,
   "metadata": {},
   "outputs": [],
   "source": [
    "# create list of the string coloumns from the ulta df\n",
    "ulta_string_col = ['brand','description','rating','ingredients','number_of_reviews','price_USD','number_of_ingredients','ingredients list']\n",
    "\n",
    "# drop the string columns\n",
    "ulta_no_string_df = ulta_df.drop(columns=ulta_string_col)"
   ]
  },
  {
   "cell_type": "code",
   "execution_count": null,
   "metadata": {},
   "outputs": [],
   "source": [
    "# make the integer columns a list\n",
    "ingredients_col_names = ulta_no_string_df.columns.tolist()"
   ]
  },
  {
   "cell_type": "code",
   "execution_count": null,
   "metadata": {},
   "outputs": [],
   "source": [
    "# save sum of rows(axis=1) in new column on ulta df\n",
    "ulta_df['sum of toxic ingredients'] = ulta_df[ingredients_col_names].sum(axis=1)\n",
    "# ulta_df = ulta_df.drop(columns='sum')\n",
    "ulta_df"
   ]
  },
  {
   "cell_type": "code",
   "execution_count": null,
   "metadata": {},
   "outputs": [],
   "source": [
    "# pd.set_option('display.max_rows', 500)\n",
    "# pd.set_option('display.max_columns', 500)\n",
    "# pd.set_option('display.width', 1000)\n",
    "ulta_df.head()"
   ]
  },
  {
   "cell_type": "code",
   "execution_count": null,
   "metadata": {},
   "outputs": [],
   "source": [
    "# save df as csv\n",
    "ulta_df.to_csv('ulta_toxic_chemicals_data.csv', index=False)"
   ]
  },
  {
   "cell_type": "code",
   "execution_count": null,
   "metadata": {},
   "outputs": [],
   "source": [
    "# ulta_df.sort_values(by='sum', ascending=False)"
   ]
  }
 ],
 "metadata": {
  "kernelspec": {
   "display_name": "Python 3",
   "language": "python",
   "name": "python3"
  },
  "language_info": {
   "codemirror_mode": {
    "name": "ipython",
    "version": 3
   },
   "file_extension": ".py",
   "mimetype": "text/x-python",
   "name": "python",
   "nbconvert_exporter": "python",
   "pygments_lexer": "ipython3",
   "version": "3.6.5"
  }
 },
 "nbformat": 4,
 "nbformat_minor": 2
}
