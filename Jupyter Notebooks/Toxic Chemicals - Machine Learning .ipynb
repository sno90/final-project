{
 "cells": [
  {
   "cell_type": "code",
   "execution_count": 8,
   "metadata": {},
   "outputs": [],
   "source": [
    "# import dependencies\n",
    "import pandas as pd\n",
    "%matplotlib inline\n",
    "import seaborn as sns"
   ]
  },
  {
   "cell_type": "code",
   "execution_count": 2,
   "metadata": {},
   "outputs": [],
   "source": [
    "# import files \n",
    "ulta_tox = pd.read_csv(r'ulta_toxic_chemicals_data.csv')\n",
    "\n",
    "# create df\n",
    "ulta_tox_df = pd.DataFrame(ulta_tox)"
   ]
  },
  {
   "cell_type": "code",
   "execution_count": 7,
   "metadata": {},
   "outputs": [
    {
     "data": {
      "text/html": [
       "<div>\n",
       "<style scoped>\n",
       "    .dataframe tbody tr th:only-of-type {\n",
       "        vertical-align: middle;\n",
       "    }\n",
       "\n",
       "    .dataframe tbody tr th {\n",
       "        vertical-align: top;\n",
       "    }\n",
       "\n",
       "    .dataframe thead th {\n",
       "        text-align: right;\n",
       "    }\n",
       "</style>\n",
       "<table border=\"1\" class=\"dataframe\">\n",
       "  <thead>\n",
       "    <tr style=\"text-align: right;\">\n",
       "      <th></th>\n",
       "      <th>brand</th>\n",
       "      <th>description</th>\n",
       "      <th>rating</th>\n",
       "      <th>ingredients</th>\n",
       "      <th>number_of_ingredients</th>\n",
       "      <th>number_of_reviews</th>\n",
       "      <th>price_USD</th>\n",
       "      <th>ingredients list</th>\n",
       "      <th>Propylparaben</th>\n",
       "      <th>Fd&amp;c</th>\n",
       "      <th>...</th>\n",
       "      <th>Sodium Lauroyl Sarcosinate</th>\n",
       "      <th>Disodium Laureth Sulfosuccinate</th>\n",
       "      <th>Benzophenone</th>\n",
       "      <th>Paba</th>\n",
       "      <th>Avobenzone</th>\n",
       "      <th>Homosalate</th>\n",
       "      <th>Ethoxycinnmate</th>\n",
       "      <th>Oxybenzone</th>\n",
       "      <th>rating (0.0)</th>\n",
       "      <th>sum of toxic ingredients</th>\n",
       "    </tr>\n",
       "  </thead>\n",
       "  <tbody>\n",
       "    <tr>\n",
       "      <th>0</th>\n",
       "      <td>Philosophy</td>\n",
       "      <td>purity-made-simple-one-step-facial-cleanser</td>\n",
       "      <td>4.6</td>\n",
       "      <td>['Water', 'Sodium Lauroamphoacetate', 'Sodium ...</td>\n",
       "      <td>29</td>\n",
       "      <td>3881</td>\n",
       "      <td>36</td>\n",
       "      <td>'Water', 'Sodium Lauroamphoacetate', 'Sodium T...</td>\n",
       "      <td>1</td>\n",
       "      <td>0</td>\n",
       "      <td>...</td>\n",
       "      <td>0</td>\n",
       "      <td>0</td>\n",
       "      <td>0</td>\n",
       "      <td>0</td>\n",
       "      <td>0</td>\n",
       "      <td>0</td>\n",
       "      <td>0</td>\n",
       "      <td>0</td>\n",
       "      <td>46</td>\n",
       "      <td>1</td>\n",
       "    </tr>\n",
       "    <tr>\n",
       "      <th>1</th>\n",
       "      <td>Dermalogica</td>\n",
       "      <td>special-cleansing-gel</td>\n",
       "      <td>4.6</td>\n",
       "      <td>['Water/Aqua/Eau', 'Sodium Laureth Sulfate', '...</td>\n",
       "      <td>16</td>\n",
       "      <td>2202</td>\n",
       "      <td>39</td>\n",
       "      <td>'Water/Aqua/Eau', 'Sodium Laureth Sulfate', 'D...</td>\n",
       "      <td>1</td>\n",
       "      <td>0</td>\n",
       "      <td>...</td>\n",
       "      <td>0</td>\n",
       "      <td>0</td>\n",
       "      <td>0</td>\n",
       "      <td>0</td>\n",
       "      <td>0</td>\n",
       "      <td>0</td>\n",
       "      <td>0</td>\n",
       "      <td>0</td>\n",
       "      <td>46</td>\n",
       "      <td>2</td>\n",
       "    </tr>\n",
       "    <tr>\n",
       "      <th>2</th>\n",
       "      <td>Clinique</td>\n",
       "      <td>take-day-off-cleansing-balm</td>\n",
       "      <td>4.7</td>\n",
       "      <td>['Ethylhexyl Palmitate', 'Carthamus Tinctorius...</td>\n",
       "      <td>9</td>\n",
       "      <td>1793</td>\n",
       "      <td>30</td>\n",
       "      <td>'Ethylhexyl Palmitate', 'Carthamus Tinctorius ...</td>\n",
       "      <td>0</td>\n",
       "      <td>0</td>\n",
       "      <td>...</td>\n",
       "      <td>0</td>\n",
       "      <td>0</td>\n",
       "      <td>0</td>\n",
       "      <td>0</td>\n",
       "      <td>0</td>\n",
       "      <td>0</td>\n",
       "      <td>0</td>\n",
       "      <td>0</td>\n",
       "      <td>47</td>\n",
       "      <td>0</td>\n",
       "    </tr>\n",
       "    <tr>\n",
       "      <th>3</th>\n",
       "      <td>Clinique</td>\n",
       "      <td>liquid-facial-soap-mild</td>\n",
       "      <td>4.5</td>\n",
       "      <td>['Water / Aqua / Eau', 'Sodium Laureth Sulfate...</td>\n",
       "      <td>23</td>\n",
       "      <td>601</td>\n",
       "      <td>18</td>\n",
       "      <td>'Water / Aqua / Eau', 'Sodium Laureth Sulfate'...</td>\n",
       "      <td>0</td>\n",
       "      <td>0</td>\n",
       "      <td>...</td>\n",
       "      <td>0</td>\n",
       "      <td>0</td>\n",
       "      <td>0</td>\n",
       "      <td>0</td>\n",
       "      <td>0</td>\n",
       "      <td>0</td>\n",
       "      <td>0</td>\n",
       "      <td>0</td>\n",
       "      <td>45</td>\n",
       "      <td>1</td>\n",
       "    </tr>\n",
       "    <tr>\n",
       "      <th>4</th>\n",
       "      <td>Philosophy</td>\n",
       "      <td>microdelivery-exfoliating-facial-wash</td>\n",
       "      <td>4.0</td>\n",
       "      <td>['Aqua/Water/Eau', 'Solum Diatomeae/Diatomaceo...</td>\n",
       "      <td>31</td>\n",
       "      <td>672</td>\n",
       "      <td>28</td>\n",
       "      <td>'Aqua/Water/Eau', 'Solum Diatomeae/Diatomaceou...</td>\n",
       "      <td>0</td>\n",
       "      <td>0</td>\n",
       "      <td>...</td>\n",
       "      <td>0</td>\n",
       "      <td>0</td>\n",
       "      <td>0</td>\n",
       "      <td>0</td>\n",
       "      <td>0</td>\n",
       "      <td>0</td>\n",
       "      <td>0</td>\n",
       "      <td>0</td>\n",
       "      <td>40</td>\n",
       "      <td>0</td>\n",
       "    </tr>\n",
       "  </tbody>\n",
       "</table>\n",
       "<p>5 rows × 39 columns</p>\n",
       "</div>"
      ],
      "text/plain": [
       "         brand                                  description  rating  \\\n",
       "0   Philosophy  purity-made-simple-one-step-facial-cleanser     4.6   \n",
       "1  Dermalogica                        special-cleansing-gel     4.6   \n",
       "2     Clinique                  take-day-off-cleansing-balm     4.7   \n",
       "3     Clinique                      liquid-facial-soap-mild     4.5   \n",
       "4   Philosophy        microdelivery-exfoliating-facial-wash     4.0   \n",
       "\n",
       "                                         ingredients  number_of_ingredients  \\\n",
       "0  ['Water', 'Sodium Lauroamphoacetate', 'Sodium ...                     29   \n",
       "1  ['Water/Aqua/Eau', 'Sodium Laureth Sulfate', '...                     16   \n",
       "2  ['Ethylhexyl Palmitate', 'Carthamus Tinctorius...                      9   \n",
       "3  ['Water / Aqua / Eau', 'Sodium Laureth Sulfate...                     23   \n",
       "4  ['Aqua/Water/Eau', 'Solum Diatomeae/Diatomaceo...                     31   \n",
       "\n",
       "   number_of_reviews  price_USD  \\\n",
       "0               3881         36   \n",
       "1               2202         39   \n",
       "2               1793         30   \n",
       "3                601         18   \n",
       "4                672         28   \n",
       "\n",
       "                                    ingredients list  Propylparaben  Fd&c  \\\n",
       "0  'Water', 'Sodium Lauroamphoacetate', 'Sodium T...              1     0   \n",
       "1  'Water/Aqua/Eau', 'Sodium Laureth Sulfate', 'D...              1     0   \n",
       "2  'Ethylhexyl Palmitate', 'Carthamus Tinctorius ...              0     0   \n",
       "3  'Water / Aqua / Eau', 'Sodium Laureth Sulfate'...              0     0   \n",
       "4  'Aqua/Water/Eau', 'Solum Diatomeae/Diatomaceou...              0     0   \n",
       "\n",
       "             ...             Sodium Lauroyl Sarcosinate  \\\n",
       "0            ...                                      0   \n",
       "1            ...                                      0   \n",
       "2            ...                                      0   \n",
       "3            ...                                      0   \n",
       "4            ...                                      0   \n",
       "\n",
       "   Disodium Laureth Sulfosuccinate  Benzophenone  Paba  Avobenzone  \\\n",
       "0                                0             0     0           0   \n",
       "1                                0             0     0           0   \n",
       "2                                0             0     0           0   \n",
       "3                                0             0     0           0   \n",
       "4                                0             0     0           0   \n",
       "\n",
       "   Homosalate  Ethoxycinnmate  Oxybenzone  rating (0.0)  \\\n",
       "0           0               0           0            46   \n",
       "1           0               0           0            46   \n",
       "2           0               0           0            47   \n",
       "3           0               0           0            45   \n",
       "4           0               0           0            40   \n",
       "\n",
       "   sum of toxic ingredients  \n",
       "0                         1  \n",
       "1                         2  \n",
       "2                         0  \n",
       "3                         1  \n",
       "4                         0  \n",
       "\n",
       "[5 rows x 39 columns]"
      ]
     },
     "execution_count": 7,
     "metadata": {},
     "output_type": "execute_result"
    }
   ],
   "source": [
    "# pd.set_option('display.width', 1000)\n",
    "# pd.set_option('display.max_columns', 500)\n",
    "# pd.set_option('display.width', 1000)\n",
    "ulta_tox_df.head()"
   ]
  },
  {
   "cell_type": "markdown",
   "metadata": {},
   "source": [
    "# Train the Data"
   ]
  },
  {
   "cell_type": "code",
   "execution_count": 26,
   "metadata": {},
   "outputs": [],
   "source": [
    "X = ulta_tox_df[['number_of_ingredients']]\n",
    "y = ulta_tox_df['price_USD']"
   ]
  },
  {
   "cell_type": "code",
   "execution_count": 27,
   "metadata": {},
   "outputs": [],
   "source": [
    "from sklearn.model_selection import train_test_split"
   ]
  },
  {
   "cell_type": "code",
   "execution_count": 28,
   "metadata": {},
   "outputs": [],
   "source": [
    "# split data to train and test\n",
    "X_train, X_test, y_train, y_test = train_test_split(X, y, random_state=42, test_size=0.25)"
   ]
  },
  {
   "cell_type": "code",
   "execution_count": 29,
   "metadata": {},
   "outputs": [
    {
     "data": {
      "text/plain": [
       "LogisticRegression(C=1.0, class_weight=None, dual=False, fit_intercept=True,\n",
       "          intercept_scaling=1, max_iter=100, multi_class='ovr', n_jobs=1,\n",
       "          penalty='l2', random_state=None, solver='liblinear', tol=0.0001,\n",
       "          verbose=0, warm_start=False)"
      ]
     },
     "execution_count": 29,
     "metadata": {},
     "output_type": "execute_result"
    }
   ],
   "source": [
    "from sklearn.linear_model import LogisticRegression\n",
    "classifier = LogisticRegression()\n",
    "classifier"
   ]
  },
  {
   "cell_type": "code",
   "execution_count": 30,
   "metadata": {},
   "outputs": [
    {
     "data": {
      "text/plain": [
       "LogisticRegression(C=1.0, class_weight=None, dual=False, fit_intercept=True,\n",
       "          intercept_scaling=1, max_iter=100, multi_class='ovr', n_jobs=1,\n",
       "          penalty='l2', random_state=None, solver='liblinear', tol=0.0001,\n",
       "          verbose=0, warm_start=False)"
      ]
     },
     "execution_count": 30,
     "metadata": {},
     "output_type": "execute_result"
    }
   ],
   "source": [
    "classifier.fit(X_train, y_train)"
   ]
  },
  {
   "cell_type": "code",
   "execution_count": 31,
   "metadata": {},
   "outputs": [
    {
     "name": "stdout",
     "output_type": "stream",
     "text": [
      "0.048519218651543794\n",
      "0.034026465028355386\n"
     ]
    }
   ],
   "source": [
    "# see if the number of reviews impacts y \n",
    "# there does not appear to be a correlation between the number of reviews, the sum of toxic ingredients, \n",
    "# the number of ingredients and \n",
    "print(classifier.score(X_train, y_train))\n",
    "print(classifier.score(X_test, y_test))"
   ]
  },
  {
   "cell_type": "code",
   "execution_count": 32,
   "metadata": {},
   "outputs": [
    {
     "name": "stdout",
     "output_type": "stream",
     "text": [
      "First 10 Predictions:   [19 19 19 22 22 22 19 19 19 19]\n",
      "First 10 Actual labels: [36, 39, 49, 28, 38, 47, 27, 18, 18, 24]\n"
     ]
    }
   ],
   "source": [
    "# make predictions\n",
    "predictions = classifier.predict(X_test)\n",
    "print(f\"First 10 Predictions:   {predictions[:10]}\")\n",
    "print(f\"First 10 Actual labels: {y_test[:10].tolist()}\")"
   ]
  },
  {
   "cell_type": "code",
   "execution_count": 33,
   "metadata": {},
   "outputs": [
    {
     "name": "stdout",
     "output_type": "stream",
     "text": [
      "             precision    recall  f1-score   support\n",
      "\n",
      "          2       0.00      0.00      0.00         1\n",
      "          3       0.00      0.00      0.00         1\n",
      "          4       0.00      0.00      0.00         6\n",
      "          5       0.00      0.00      0.00         5\n",
      "          6       0.00      0.00      0.00         5\n",
      "          7       0.00      0.00      0.00         8\n",
      "          8       0.00      0.00      0.00        13\n",
      "          9       0.00      0.00      0.00        11\n",
      "         10       0.00      0.00      0.00        18\n",
      "         11       0.00      0.00      0.00         6\n",
      "         12       0.00      0.00      0.00        13\n",
      "         13       0.00      0.00      0.00         7\n",
      "         14       0.00      0.00      0.00        17\n",
      "         15       0.00      0.00      0.00        12\n",
      "         16       0.00      0.00      0.00        10\n",
      "         17       0.00      0.00      0.00         8\n",
      "         18       0.00      0.00      0.00        24\n",
      "         19       0.03      0.82      0.05        11\n",
      "         20       0.00      0.00      0.00        10\n",
      "         21       0.00      0.00      0.00        14\n",
      "         22       0.02      0.24      0.04        17\n",
      "         23       0.00      0.00      0.00        15\n",
      "         24       0.00      0.00      0.00        33\n",
      "         25       0.00      0.00      0.00        22\n",
      "         26       0.00      0.00      0.00        10\n",
      "         27       0.00      0.00      0.00         4\n",
      "         28       0.00      0.00      0.00        15\n",
      "         29       0.00      0.00      0.00        24\n",
      "         30       0.00      0.00      0.00        11\n",
      "         31       0.00      0.00      0.00         7\n",
      "         32       0.00      0.00      0.00         5\n",
      "         33       0.00      0.00      0.00         5\n",
      "         34       0.00      0.00      0.00         5\n",
      "         35       0.00      0.00      0.00         6\n",
      "         36       0.00      0.00      0.00         8\n",
      "         38       0.00      0.00      0.00         8\n",
      "         39       0.14      0.21      0.17        19\n",
      "         40       0.00      0.00      0.00         5\n",
      "         41       0.00      0.00      0.00         1\n",
      "         42       0.00      0.00      0.00         7\n",
      "         43       0.00      0.00      0.00         2\n",
      "         44       0.00      0.00      0.00         7\n",
      "         45       0.00      0.00      0.00         7\n",
      "         46       0.00      0.00      0.00         8\n",
      "         47       0.00      0.00      0.00         2\n",
      "         48       0.00      0.00      0.00         6\n",
      "         49       0.17      0.12      0.14         8\n",
      "         50       0.00      0.00      0.00         4\n",
      "         52       0.00      0.00      0.00         4\n",
      "         53       0.00      0.00      0.00         1\n",
      "         54       0.00      0.00      0.00         3\n",
      "         55       0.00      0.00      0.00         1\n",
      "         58       0.00      0.00      0.00         1\n",
      "         59       0.00      0.00      0.00         2\n",
      "         60       0.00      0.00      0.00         4\n",
      "         61       0.00      0.00      0.00         1\n",
      "         65       0.00      0.00      0.00        12\n",
      "         66       0.00      0.00      0.00         1\n",
      "         67       0.00      0.00      0.00         1\n",
      "         68       0.00      0.00      0.00         1\n",
      "         70       0.00      0.00      0.00         3\n",
      "         72       0.00      0.00      0.00         1\n",
      "         75       0.00      0.00      0.00         2\n",
      "         76       0.00      0.00      0.00         1\n",
      "         78       0.00      0.00      0.00         1\n",
      "         79       0.00      0.00      0.00         1\n",
      "         80       0.00      0.00      0.00         2\n",
      "         84       0.00      0.00      0.00         1\n",
      "         85       0.00      0.00      0.00         2\n",
      "         87       0.00      0.00      0.00         1\n",
      "         89       0.00      0.00      0.00         2\n",
      "         92       0.00      0.00      0.00         1\n",
      "         96       0.00      0.00      0.00         1\n",
      "         98       0.00      0.00      0.00         2\n",
      "        100       0.00      0.00      0.00         1\n",
      "        119       0.00      0.00      0.00         1\n",
      "        125       0.00      0.00      0.00         1\n",
      "        135       0.00      0.00      0.00         1\n",
      "        148       0.00      0.00      0.00         1\n",
      "\n",
      "avg / total       0.01      0.03      0.01       529\n",
      "\n"
     ]
    },
    {
     "name": "stderr",
     "output_type": "stream",
     "text": [
      "C:\\Users\\Trisarah\\Anaconda3\\envs\\dsi\\lib\\site-packages\\sklearn\\metrics\\classification.py:1135: UndefinedMetricWarning: Precision and F-score are ill-defined and being set to 0.0 in labels with no predicted samples.\n",
      "  'precision', 'predicted', average, warn_for)\n"
     ]
    }
   ],
   "source": [
    "from sklearn.metrics import classification_report\n",
    "print(classification_report(y_test,predictions))"
   ]
  }
 ],
 "metadata": {
  "kernelspec": {
   "display_name": "Python 3",
   "language": "python",
   "name": "python3"
  },
  "language_info": {
   "codemirror_mode": {
    "name": "ipython",
    "version": 3
   },
   "file_extension": ".py",
   "mimetype": "text/x-python",
   "name": "python",
   "nbconvert_exporter": "python",
   "pygments_lexer": "ipython3",
   "version": "3.6.5"
  }
 },
 "nbformat": 4,
 "nbformat_minor": 2
}
