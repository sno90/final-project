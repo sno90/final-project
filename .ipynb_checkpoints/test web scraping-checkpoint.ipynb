{
 "cells": [
  {
   "cell_type": "code",
   "execution_count": 1,
   "metadata": {},
   "outputs": [],
   "source": [
    "# import dependencies \n",
    "# from selenium import webdriver\n",
    "from splinter import Browser\n",
    "from bs4 import BeautifulSoup as bs\n",
    "import requests\n",
    "import re\n",
    "from urllib.request import urlopen\n",
    "# import time\n",
    "import pandas as pd\n",
    "import numpy as np"
   ]
  },
  {
   "cell_type": "code",
   "execution_count": 2,
   "metadata": {},
   "outputs": [],
   "source": [
    "executable_path = {'executable_path': 'C:\\\\Users\\\\Trisarah\\\\Desktop\\chromedriver.exe'} \n",
    "browser= Browser('chrome', **executable_path, headless=False)\n",
    "base_url = 'https://www.ulta.com'"
   ]
  },
  {
   "cell_type": "code",
   "execution_count": 3,
   "metadata": {},
   "outputs": [],
   "source": [
    "# # set urls\n",
    "ulta_urls = ['https://www.ulta.com/skin-care-cleansers?N=2794']\n",
    "#               'https://www.ulta.com/skin-care-moisturizers?N=2796',\\\n",
    "#               'https://www.ulta.com/skin-care-treatment-serums?N=27cs',\\\n",
    "#               'https://www.ulta.com/skin-care-eye-treatments?N=270k',\\\n",
    "#               'https://www.ulta.com/skin-care-suncare?N=27fe',\\\n",
    "#               'https://www.ulta.com/skin-care-supplements?N=2712',\\\n",
    "#               'https://www.ulta.com/skin-care-mother-baby?N=2715',\\\n",
    "#               'https://www.ulta.com/makeup-face?N=26y3',\\\n",
    "#               'https://www.ulta.com/makeup-eyes?N=26yd',\\\n",
    "#               'https://www.ulta.com/makeup-lips?N=26yq',\\\n",
    "#               'https://www.ulta.com/hair-shampoo-conditioner?N=27ih',\\\n",
    "#               'https://www.ulta.com/hair-treatment?N=26xy',\\\n",
    "#               'https://www.ulta.com/hair-styling-products?N=26xf',\\\n",
    "#               'https://www.ulta.com/hair-color?N=26xs',\\\n",
    "#               'https://www.ulta.com/bath-body-bath-shower?N=26uy',\\\n",
    "#               'https://www.ulta.com/bath-body-body-moisturizers?N=26v3',\\\n",
    "#               'https://www.ulta.com/bath-body-hand-foot-care?N=27ic',\\\n",
    "#               'https://www.ulta.com/bath-body-personal-care?N=27i3',\\\n",
    "#               'https://www.ulta.com/bath-body-suncare?N=276b'"
   ]
  },
  {
   "cell_type": "code",
   "execution_count": 4,
   "metadata": {},
   "outputs": [],
   "source": [
    "# create empty lists to append later\n",
    "links = []\n",
    "brands = []\n",
    "description = []\n",
    "productID = []\n",
    "\n",
    "# loop through ulta urls\n",
    "for url in ulta_urls:\n",
    "    browser.visit(url)\n",
    "    r = requests.get(url, timeout=5)\n",
    "    \n",
    "    # parse html source\n",
    "    html = browser.html\n",
    "    data = bs(html, 'html.parser')\n",
    "    \n",
    "    # get product link, title, and \n",
    "    prod_title = data.find_all('h4', attrs={'prod-title'})\n",
    "    \n",
    "    #loop through the links and generate unique url for each product\n",
    "    for link in prod_title:\n",
    "        find_href = link.findAll('a')\n",
    "\n",
    "        for a in find_href:\n",
    "            href = a['href']\n",
    "            brand_text = a.getText()\n",
    "            descrip = re.findall(r\"\\/([\\s\\S]*?)\\?\", href)\n",
    "            id = href.rsplit('=', 1)[+1]\n",
    "            \n",
    "            # append product url to links list from above\n",
    "            links.append(base_url + href)\n",
    "            brands.append(brand_text)\n",
    "            description.append(descrip)\n",
    "            productID.append(id)"
   ]
  },
  {
   "cell_type": "code",
   "execution_count": 35,
   "metadata": {},
   "outputs": [
    {
     "ename": "SyntaxError",
     "evalue": "invalid syntax (<ipython-input-35-53a360814fa9>, line 13)",
     "output_type": "error",
     "traceback": [
      "\u001b[1;36m  File \u001b[1;32m\"<ipython-input-35-53a360814fa9>\"\u001b[1;36m, line \u001b[1;32m13\u001b[0m\n\u001b[1;33m    ingredients = [[] for y in repeat(None, x)]:\u001b[0m\n\u001b[1;37m                                               ^\u001b[0m\n\u001b[1;31mSyntaxError\u001b[0m\u001b[1;31m:\u001b[0m invalid syntax\n"
     ]
    }
   ],
   "source": [
    "for i in range(len(links)):\n",
    "    html = urlopen(links[i]).read()\n",
    "    soup = bs(html, 'html.parser')\n",
    "    \n",
    "    divs = soup.findAll('div', attrs={'class': 'ProductDetail__ingredients'})\n",
    "    \n",
    "    for ul in divs:\n",
    "        x = ul.find_all('div', {'class' : 'ProductDetail__productContent'})\n",
    "        \n",
    "        #### EVERYTHING ABOVE WORKS \n",
    "        \n",
    "        from itertools import repeat\n",
    "        ingredients = [[] for y in repeat(None, x)]:\n",
    "            stuff = y.getText()\n",
    "            ingredients.append(stuff)\n",
    "#             print(stuff)\n",
    "print(ingredients)"
   ]
  },
  {
   "cell_type": "markdown",
   "metadata": {},
   "source": [
    "#### articles to create list of lists\n",
    "\n",
    "from itertools import repeat\n",
    "d = [[] for i in repeat(None, n)]\n",
    "\n",
    "https://stackoverflow.com/questions/5518435/python-fastest-way-to-create-a-list-of-n-lists\n",
    "https://codereview.stackexchange.com/questions/166794/nested-for-loop-to-create-list-of-lists-python"
   ]
  },
  {
   "cell_type": "code",
   "execution_count": null,
   "metadata": {},
   "outputs": [],
   "source": []
  }
 ],
 "metadata": {
  "kernelspec": {
   "display_name": "Python 3",
   "language": "python",
   "name": "python3"
  },
  "language_info": {
   "codemirror_mode": {
    "name": "ipython",
    "version": 3
   },
   "file_extension": ".py",
   "mimetype": "text/x-python",
   "name": "python",
   "nbconvert_exporter": "python",
   "pygments_lexer": "ipython3",
   "version": "3.6.5"
  }
 },
 "nbformat": 4,
 "nbformat_minor": 2
}
